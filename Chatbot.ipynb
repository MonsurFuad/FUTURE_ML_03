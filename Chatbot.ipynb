{
  "nbformat": 4,
  "nbformat_minor": 0,
  "metadata": {
    "colab": {
      "provenance": []
    },
    "kernelspec": {
      "name": "python3",
      "display_name": "Python 3"
    },
    "language_info": {
      "name": "python"
    }
  },
  "cells": [
    {
      "cell_type": "code",
      "execution_count": 10,
      "metadata": {
        "id": "DpDUOKCndyr_"
      },
      "outputs": [],
      "source": [
        "# full_csv_chatbot.py\n",
        "\n",
        "import pandas as pd\n",
        "import re\n",
        "import random"
      ]
    },
    {
      "cell_type": "code",
      "source": [
        "# ------------------------\n",
        "# Preprocessing Function\n",
        "# ------------------------\n",
        "def clean_text(text):\n",
        "    text = str(text).lower()\n",
        "    text = re.sub(r\"[^a-zA-Z0-9\\s]\", \"\", text)\n",
        "    return text.strip()"
      ],
      "metadata": {
        "id": "cvSc7yx4fWj9"
      },
      "execution_count": 11,
      "outputs": []
    },
    {
      "cell_type": "code",
      "source": [
        "# ------------------------\n",
        "# Load Intents CSV\n",
        "# ------------------------\n",
        "def load_intents(file_path='/content/drive/MyDrive/intents.csv'):\n",
        "    try:\n",
        "        data = pd.read_csv(file_path, comment='//', engine='python', quotechar='\"', escapechar='\\\\', on_bad_lines='skip')\n",
        "        print(f\"✅ Loaded {len(data)} intents from {file_path}\")\n",
        "        return data\n",
        "    except Exception as e:\n",
        "        print(f\"❌ Error loading intents: {e}\")\n",
        "        df = pd.DataFrame(columns=['Intent', 'Patterns', 'Responses'])\n",
        "        return pd.concat([df, pd.DataFrame([{\n",
        "            'Intent': 'greeting',\n",
        "            'Patterns': 'hello|hi|hey',\n",
        "            'Responses': 'Hello! How can I help you today?'\n",
        "        }])], ignore_index=True)\n",
        "\n"
      ],
      "metadata": {
        "id": "uMuU1PxGfWpy"
      },
      "execution_count": 12,
      "outputs": []
    },
    {
      "cell_type": "code",
      "source": [
        "# ------------------------\n",
        "# Intent Matching Logic\n",
        "# ------------------------\n",
        "def find_intent(user_message, data):\n",
        "    try:\n",
        "        user_message = clean_text(user_message)\n",
        "        for _, row in data.iterrows():\n",
        "            patterns = row['Patterns'].split('|')\n",
        "            for pattern in patterns:\n",
        "                pattern_cleaned = clean_text(pattern)\n",
        "                if re.search(rf'\\b{pattern_cleaned}\\b', user_message):\n",
        "                    return row['Intent']\n",
        "        return None\n",
        "    except Exception as e:\n",
        "        print(f\"Error in find_intent: {str(e)}\")\n",
        "        return None"
      ],
      "metadata": {
        "id": "ITVrPlN5fhHC"
      },
      "execution_count": 13,
      "outputs": []
    },
    {
      "cell_type": "code",
      "source": [
        "# ------------------------\n",
        "# Response Retrieval\n",
        "# ------------------------\n",
        "def get_response(intent, data):\n",
        "    try:\n",
        "        if intent:\n",
        "            matches = data[data['Intent'] == intent]\n",
        "            if not matches.empty:\n",
        "                row = matches.iloc[0]\n",
        "                responses = row['Responses'].split('|')\n",
        "                return random.choice(responses)\n",
        "        return \"I'm sorry, I didn't understand. Could you please rephrase?\"\n",
        "    except Exception as e:\n",
        "        print(f\"Error in get_response: {str(e)}\")\n",
        "        return \"I'm sorry, I couldn't generate a response.\""
      ],
      "metadata": {
        "id": "bZizHl8yfnpK"
      },
      "execution_count": 14,
      "outputs": []
    },
    {
      "cell_type": "code",
      "source": [
        "# ------------------------\n",
        "# Main Chat Function\n",
        "# ------------------------\n",
        "def chat():\n",
        "    extract_intents()  # ensure intents.csv is generated from dataset\n",
        "    data = load_intents()\n",
        "    print(\"\\n🤖 Chatbot is ready! Type 'quit' to exit.\")\n",
        "    while True:\n",
        "        msg = input(\"You: \")\n",
        "        if msg.lower() in ['quit', 'exit']:\n",
        "            print(\"Bot: Goodbye!\")\n",
        "            break\n",
        "        intent = find_intent(msg, data)\n",
        "        response = get_response(intent, data)\n",
        "        print(\"Bot:\", response)"
      ],
      "metadata": {
        "id": "2793MhQTfhKJ"
      },
      "execution_count": 15,
      "outputs": []
    },
    {
      "cell_type": "code",
      "source": [
        "# ------------------------\n",
        "# Run the chatbot\n",
        "# ------------------------\n",
        "if __name__ == '__main__':\n",
        "    chat()"
      ],
      "metadata": {
        "colab": {
          "base_uri": "https://localhost:8080/"
        },
        "id": "-V6RRpL8fj-D",
        "outputId": "1156848b-c8e5-4162-968d-a1b9b7a8292e"
      },
      "execution_count": 17,
      "outputs": [
        {
          "output_type": "stream",
          "name": "stdout",
          "text": [
            "✅ Extracted and saved intents to intents.csv\n",
            "✅ Loaded 28 intents from /content/drive/MyDrive/intents.csv\n",
            "\n",
            "🤖 Chatbot is ready! Type 'quit' to exit.\n",
            "You: hello\n",
            "Bot: Hello! How can I help you today?\n",
            "You: I am having networking issues\n",
            "Bot: I'm sorry, I didn't understand. Could you please rephrase?\n",
            "You: i am having network problems\n",
            "Bot: Let's troubleshoot your network issue.\n",
            "You: i want to cancel my order\n",
            "Bot: Let me help you track your order. Could you please give me the order ID?\n",
            "You: thank you\n",
            "Bot: I'm sorry, I didn't understand. Could you please rephrase?\n",
            "You: thanks\n",
            "Bot: I'm sorry, I didn't understand. Could you please rephrase?\n",
            "You: good bye\n",
            "Bot: Goodbye! Have a great day!\n",
            "You: quit\n",
            "Bot: Goodbye!\n"
          ]
        }
      ]
    }
  ]
}